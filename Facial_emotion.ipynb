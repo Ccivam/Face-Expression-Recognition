{
 "cells": [
  {
   "cell_type": "code",
   "execution_count": 1,
   "metadata": {
    "colab": {
     "base_uri": "https://localhost:8080/"
    },
    "id": "dXpNuLerCIx_",
    "outputId": "aa7ebbbb-8194-4b5f-e7aa-5ba5c82ea77c"
   },
   "outputs": [
    {
     "name": "stdout",
     "output_type": "stream",
     "text": [
      "Cloning into 'facial_expressions'...\n",
      "remote: Enumerating objects: 14214, done.\u001b[K\n",
      "remote: Total 14214 (delta 0), reused 0 (delta 0), pack-reused 14214\u001b[K\n",
      "Receiving objects: 100% (14214/14214), 239.65 MiB | 32.33 MiB/s, done.\n",
      "Resolving deltas: 100% (223/223), done.\n",
      "Updating files: 100% (13996/13996), done.\n"
     ]
    }
   ],
   "source": []
  },
  {
   "cell_type": "code",
   "execution_count": 9,
   "metadata": {
    "id": "5w-q6ewuCbi5"
   },
   "outputs": [],
   "source": [
    "import csv\n",
    "data={}\n",
    "with open('facial_expressions/data/legend.csv') as f:\n",
    "  reader=csv.reader(f)\n",
    "  next(reader) #skip the frist row\n",
    "  for row in reader:\n",
    "    key=row[2].lower()\n",
    "    if key in data:\n",
    "      data[key].append(row[1])\n",
    "    else:\n",
    "      data[key]=[row[1]]"
   ]
  },
  {
   "cell_type": "code",
   "execution_count": 11,
   "metadata": {
    "colab": {
     "base_uri": "https://localhost:8080/"
    },
    "id": "1l5lpULaFB5K",
    "outputId": "4b0803ed-2274-40ce-9110-ce2b18ac5a31"
   },
   "outputs": [
    {
     "data": {
      "text/plain": [
       "['anger',\n",
       " 'surprise',\n",
       " 'disgust',\n",
       " 'fear',\n",
       " 'neutral',\n",
       " 'happiness',\n",
       " 'sadness',\n",
       " 'contempt']"
      ]
     },
     "execution_count": 11,
     "metadata": {},
     "output_type": "execute_result"
    }
   ],
   "source": [
    "emotion_list=list(data.keys())\n",
    "emotion_list"
   ]
  },
  {
   "cell_type": "code",
   "execution_count": 12,
   "metadata": {
    "id": "fu7RgxWZFstg"
   },
   "outputs": [
    {
     "ename": "FileExistsError",
     "evalue": "[WinError 183] Cannot create a file when that file already exists: 'master_data'",
     "output_type": "error",
     "traceback": [
      "\u001b[1;31m---------------------------------------------------------------------------\u001b[0m",
      "\u001b[1;31mFileExistsError\u001b[0m                           Traceback (most recent call last)",
      "\u001b[1;32m~\\AppData\\Local\\Temp\\ipykernel_23476\\3524444652.py\u001b[0m in \u001b[0;36m<module>\u001b[1;34m\u001b[0m\n\u001b[0;32m      1\u001b[0m \u001b[1;32mimport\u001b[0m \u001b[0mos\u001b[0m\u001b[1;33m\u001b[0m\u001b[1;33m\u001b[0m\u001b[0m\n\u001b[1;32m----> 2\u001b[1;33m \u001b[0mos\u001b[0m\u001b[1;33m.\u001b[0m\u001b[0mmkdir\u001b[0m\u001b[1;33m(\u001b[0m\u001b[1;34m'master_data'\u001b[0m\u001b[1;33m)\u001b[0m\u001b[1;33m\u001b[0m\u001b[1;33m\u001b[0m\u001b[0m\n\u001b[0m\u001b[0;32m      3\u001b[0m \u001b[0mos\u001b[0m\u001b[1;33m.\u001b[0m\u001b[0mmkdir\u001b[0m\u001b[1;33m(\u001b[0m\u001b[1;34m'master_data/training'\u001b[0m\u001b[1;33m)\u001b[0m\u001b[1;33m\u001b[0m\u001b[1;33m\u001b[0m\u001b[0m\n\u001b[0;32m      4\u001b[0m \u001b[0mos\u001b[0m\u001b[1;33m.\u001b[0m\u001b[0mmkdir\u001b[0m\u001b[1;33m(\u001b[0m\u001b[1;34m'master_data/testing'\u001b[0m\u001b[1;33m)\u001b[0m\u001b[1;33m\u001b[0m\u001b[1;33m\u001b[0m\u001b[0m\n",
      "\u001b[1;31mFileExistsError\u001b[0m: [WinError 183] Cannot create a file when that file already exists: 'master_data'"
     ]
    }
   ],
   "source": [
    "import os\n",
    "os.mkdir('master_data')\n",
    "os.mkdir('master_data/training')\n",
    "os.mkdir('master_data/testing')"
   ]
  },
  {
   "cell_type": "code",
   "execution_count": 5,
   "metadata": {
    "id": "2g6RQSQ-GPAr"
   },
   "outputs": [],
   "source": [
    "for emotion in emotion_list:\n",
    "  os.mkdir(os.path.join('master_data/training/',emotion))\n",
    "  os.mkdir(os.path.join('master_data/testing/',emotion))"
   ]
  },
  {
   "cell_type": "code",
   "execution_count": 13,
   "metadata": {
    "id": "qtPUUJZJGmsv"
   },
   "outputs": [],
   "source": [
    "from shutil import copyfile\n",
    "split_size=0.8\n",
    "\n",
    "for emotion,images in data.items():\n",
    "  train_size=int(split_size*len(images))\n",
    "  train_images=images[:train_size]\n",
    "  test_images=images[train_size:]\n",
    "  for image in train_images:\n",
    "    source=os.path.join('facial_expressions/images',image)\n",
    "    dest=os.path.join('master_data/training',emotion,image)\n",
    "    copyfile(source,dest)\n",
    "  for image in test_images:\n",
    "    source=os.path.join('facial_expressions/images',image)\n",
    "    dest=os.path.join('master_data/testing',emotion,image)\n",
    "    copyfile(source,dest)"
   ]
  },
  {
   "cell_type": "code",
   "execution_count": 4,
   "metadata": {
    "id": "VPANZjmjIbRG"
   },
   "outputs": [],
   "source": [
    "import tensorflow as tf\n",
    "from tensorflow.keras.preprocessing.image import ImageDataGenerator\n",
    "from tensorflow.keras.optimizers import Adam\n",
    "from tensorflow.keras.callbacks import EarlyStopping\n",
    "from tensorflow.keras.layers import Conv2D,MaxPooling2D,Dense,Flatten"
   ]
  },
  {
   "cell_type": "code",
   "execution_count": 5,
   "metadata": {
    "colab": {
     "base_uri": "https://localhost:8080/"
    },
    "id": "yUKE1zLpKPdW",
    "outputId": "9522b844-3cbf-4d59-d9a3-0c63b593aa6b"
   },
   "outputs": [
    {
     "name": "stderr",
     "output_type": "stream",
     "text": [
      "WARNING:absl:`lr` is deprecated in Keras optimizer, please use `learning_rate` or use the legacy optimizer, e.g.,tf.keras.optimizers.legacy.Adam.\n"
     ]
    },
    {
     "name": "stdout",
     "output_type": "stream",
     "text": [
      "Model: \"sequential\"\n",
      "_________________________________________________________________\n",
      " Layer (type)                Output Shape              Param #   \n",
      "=================================================================\n",
      " conv2d (Conv2D)             (None, 98, 98, 16)        448       \n",
      "                                                                 \n",
      " max_pooling2d (MaxPooling2D  (None, 49, 49, 16)       0         \n",
      " )                                                               \n",
      "                                                                 \n",
      " conv2d_1 (Conv2D)           (None, 47, 47, 32)        4640      \n",
      "                                                                 \n",
      " max_pooling2d_1 (MaxPooling  (None, 23, 23, 32)       0         \n",
      " 2D)                                                             \n",
      "                                                                 \n",
      " flatten (Flatten)           (None, 16928)             0         \n",
      "                                                                 \n",
      " dense (Dense)               (None, 1024)              17335296  \n",
      "                                                                 \n",
      " dense_1 (Dense)             (None, 8)                 8200      \n",
      "                                                                 \n",
      "=================================================================\n",
      "Total params: 17,348,584\n",
      "Trainable params: 17,348,584\n",
      "Non-trainable params: 0\n",
      "_________________________________________________________________\n"
     ]
    }
   ],
   "source": [
    "model=tf.keras.models.Sequential([\n",
    "    Conv2D(16,(3,3),activation='relu',input_shape=(100,100,3)),\n",
    "    MaxPooling2D(2,2),\n",
    "    Conv2D(32,(3,3),activation='relu'),\n",
    "    MaxPooling2D(2,2),\n",
    "    Flatten(),\n",
    "    Dense(1024,activation='relu'),\n",
    "    Dense(8,activation='softmax')\n",
    "])\n",
    "model.compile(optimizer=Adam(lr=0.01),loss='categorical_crossentropy',metrics=['acc'])\n",
    "model.summary()"
   ]
  },
  {
   "cell_type": "code",
   "execution_count": 6,
   "metadata": {
    "colab": {
     "base_uri": "https://localhost:8080/"
    },
    "id": "IfbVpYDLLuIL",
    "outputId": "7b34a493-f48e-4a24-c240-316175622369"
   },
   "outputs": [
    {
     "name": "stdout",
     "output_type": "stream",
     "text": [
      "Found 10941 images belonging to 8 classes.\n",
      "Found 2742 images belonging to 8 classes.\n"
     ]
    }
   ],
   "source": [
    "train_dir='master_data/training'\n",
    "test_dir='master_data/testing'\n",
    "\n",
    "train_datagen=ImageDataGenerator(1.0/255)\n",
    "train_generator=train_datagen.flow_from_directory(\n",
    "                                                      train_dir,\n",
    "                                                      target_size=(100,100),\n",
    "                                                      class_mode='categorical',\n",
    "                                                      batch_size=128\n",
    "\n",
    "                                                     )\n",
    "test_datagen=ImageDataGenerator(1.0/255)\n",
    "test_generator=test_datagen.flow_from_directory(\n",
    "                                                      test_dir,\n",
    "                                                      target_size=(100,100),\n",
    "                                                      class_mode='categorical',\n",
    "                                                      batch_size=128\n",
    "\n",
    "                                                     )"
   ]
  },
  {
   "cell_type": "code",
   "execution_count": 7,
   "metadata": {
    "id": "ZWt4XNjcLyJQ"
   },
   "outputs": [],
   "source": [
    "es=EarlyStopping(monitor='val_acc',patience=2,min_delta=0.01)\n",
    "\n"
   ]
  },
  {
   "cell_type": "code",
   "execution_count": 8,
   "metadata": {
    "colab": {
     "base_uri": "https://localhost:8080/"
    },
    "id": "Et6_BBAKNj2C",
    "outputId": "3efa2406-9c80-4d06-ffeb-41798366a0e8"
   },
   "outputs": [
    {
     "name": "stderr",
     "output_type": "stream",
     "text": [
      "<ipython-input-8-1e7c755c9470>:1: UserWarning: `Model.fit_generator` is deprecated and will be removed in a future version. Please use `Model.fit`, which supports generators.\n",
      "  model.fit_generator(train_generator,epochs=10,verbose=1,validation_data=test_generator,callbacks=[es])\n",
      "/usr/local/lib/python3.10/dist-packages/keras/preprocessing/image.py:1861: UserWarning: This ImageDataGenerator specifies `featurewise_center`, but it hasn't been fit on any training data. Fit it first by calling `.fit(numpy_data)`.\n",
      "  warnings.warn(\n"
     ]
    },
    {
     "name": "stdout",
     "output_type": "stream",
     "text": [
      "Epoch 1/10\n",
      "86/86 [==============================] - 24s 231ms/step - loss: 35.0972 - acc: 0.6426 - val_loss: 3.2703 - val_acc: 0.6036\n",
      "Epoch 2/10\n",
      "86/86 [==============================] - 18s 215ms/step - loss: 0.5576 - acc: 0.7978 - val_loss: 2.6530 - val_acc: 0.6313\n",
      "Epoch 3/10\n",
      "86/86 [==============================] - 20s 230ms/step - loss: 0.3992 - acc: 0.8564 - val_loss: 2.5692 - val_acc: 0.6470\n",
      "Epoch 4/10\n",
      "86/86 [==============================] - 18s 215ms/step - loss: 0.2871 - acc: 0.8956 - val_loss: 3.2097 - val_acc: 0.6451\n",
      "Epoch 5/10\n",
      "86/86 [==============================] - 19s 224ms/step - loss: 0.2106 - acc: 0.9249 - val_loss: 3.3646 - val_acc: 0.6368\n"
     ]
    },
    {
     "data": {
      "text/plain": [
       "<keras.callbacks.History at 0x78176522f160>"
      ]
     },
     "execution_count": 8,
     "metadata": {},
     "output_type": "execute_result"
    }
   ],
   "source": [
    "model.fit_generator(train_generator,epochs=10,verbose=1,validation_data=test_generator,callbacks=[es])"
   ]
  },
  {
   "cell_type": "code",
   "execution_count": 9,
   "metadata": {
    "colab": {
     "base_uri": "https://localhost:8080/"
    },
    "id": "z7lDoNGXN_cF",
    "outputId": "d51c074a-1d58-466d-bead-57274825cf1a"
   },
   "outputs": [
    {
     "name": "stdout",
     "output_type": "stream",
     "text": [
      "22/22 [==============================] - 4s 177ms/step\n"
     ]
    },
    {
     "data": {
      "text/plain": [
       "array([[2.5019644e-06, 8.9546887e-07, 9.0089196e-01, ..., 7.7128723e-02,\n",
       "        6.5837880e-03, 6.4318905e-05],\n",
       "       [1.1760825e-09, 2.1979561e-10, 9.9973315e-01, ..., 6.7798538e-08,\n",
       "        6.1462553e-05, 1.4701276e-08],\n",
       "       [1.1747216e-04, 8.1852795e-06, 3.5722234e-04, ..., 9.8801291e-01,\n",
       "        1.4604822e-04, 1.6936575e-03],\n",
       "       ...,\n",
       "       [8.0409351e-05, 6.2082814e-05, 1.0477740e-03, ..., 9.5903456e-01,\n",
       "        1.1373289e-03, 1.1767808e-04],\n",
       "       [6.9454032e-08, 8.3594152e-08, 1.2523109e-05, ..., 6.6329122e-01,\n",
       "        3.3057981e-06, 2.6060317e-08],\n",
       "       [3.2741283e-03, 1.3340109e-04, 2.6507539e-01, ..., 2.5822141e-03,\n",
       "        7.1808600e-01, 8.0682160e-03]], dtype=float32)"
      ]
     },
     "execution_count": 9,
     "metadata": {},
     "output_type": "execute_result"
    }
   ],
   "source": []
  }
 ],
 "metadata": {
  "accelerator": "GPU",
  "colab": {
   "gpuType": "T4",
   "provenance": []
  },
  "kernelspec": {
   "display_name": "Python 3 (ipykernel)",
   "language": "python",
   "name": "python3"
  },
  "language_info": {
   "codemirror_mode": {
    "name": "ipython",
    "version": 3
   },
   "file_extension": ".py",
   "mimetype": "text/x-python",
   "name": "python",
   "nbconvert_exporter": "python",
   "pygments_lexer": "ipython3",
   "version": "3.9.13"
  }
 },
 "nbformat": 4,
 "nbformat_minor": 1
}
